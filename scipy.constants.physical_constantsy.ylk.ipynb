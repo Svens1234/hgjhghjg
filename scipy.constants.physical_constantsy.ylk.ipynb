{
 "cells": [
  {
   "cell_type": "code",
   "execution_count": 1,
   "id": "ddec59d7",
   "metadata": {},
   "outputs": [],
   "source": [
    "import scipy.constants as CONST"
   ]
  },
  {
   "cell_type": "code",
   "execution_count": 3,
   "id": "15aaae13",
   "metadata": {},
   "outputs": [
    {
     "data": {
      "text/plain": [
       "9.80665"
      ]
     },
     "execution_count": 3,
     "metadata": {},
     "output_type": "execute_result"
    }
   ],
   "source": [
    "CONST.g"
   ]
  },
  {
   "cell_type": "code",
   "execution_count": 4,
   "id": "c941c43a",
   "metadata": {},
   "outputs": [
    {
     "data": {
      "text/plain": [
       "6.6743e-11"
      ]
     },
     "execution_count": 4,
     "metadata": {},
     "output_type": "execute_result"
    }
   ],
   "source": [
    "CONST.G"
   ]
  },
  {
   "cell_type": "code",
   "execution_count": 5,
   "id": "eb656059",
   "metadata": {},
   "outputs": [
    {
     "data": {
      "text/plain": [
       "299792458.0"
      ]
     },
     "execution_count": 5,
     "metadata": {},
     "output_type": "execute_result"
    }
   ],
   "source": [
    "CONST.c"
   ]
  },
  {
   "cell_type": "code",
   "execution_count": 6,
   "id": "4abfbf5b",
   "metadata": {},
   "outputs": [
    {
     "data": {
      "text/plain": [
       "9.1093837015e-31"
      ]
     },
     "execution_count": 6,
     "metadata": {},
     "output_type": "execute_result"
    }
   ],
   "source": [
    "CONST.m_e"
   ]
  },
  {
   "cell_type": "code",
   "execution_count": null,
   "id": "56fc68be",
   "metadata": {},
   "outputs": [],
   "source": []
  }
 ],
 "metadata": {
  "kernelspec": {
   "display_name": "Python 3 (ipykernel)",
   "language": "python",
   "name": "python3"
  },
  "language_info": {
   "codemirror_mode": {
    "name": "ipython",
    "version": 3
   },
   "file_extension": ".py",
   "mimetype": "text/x-python",
   "name": "python",
   "nbconvert_exporter": "python",
   "pygments_lexer": "ipython3",
   "version": "3.10.5"
  }
 },
 "nbformat": 4,
 "nbformat_minor": 5
}
